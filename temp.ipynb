{
  "nbformat": 4,
  "nbformat_minor": 0,
  "metadata": {
    "colab": {
      "provenance": [],
      "authorship_tag": "ABX9TyOlSPRpdEdf22pWA2MRlXg9",
      "include_colab_link": true
    },
    "kernelspec": {
      "name": "python3",
      "display_name": "Python 3"
    },
    "language_info": {
      "name": "python"
    }
  },
  "cells": [
    {
      "cell_type": "markdown",
      "metadata": {
        "id": "view-in-github",
        "colab_type": "text"
      },
      "source": [
        "<a href=\"https://colab.research.google.com/github/yunyoungwoo/2024S-Ajou-ML-FP/blob/main/temp.ipynb\" target=\"_parent\"><img src=\"https://colab.research.google.com/assets/colab-badge.svg\" alt=\"Open In Colab\"/></a>"
      ]
    },
    {
      "cell_type": "code",
      "execution_count": 1,
      "metadata": {
        "id": "mhj76fPesfME"
      },
      "outputs": [],
      "source": [
        "import numpy as np # linear algebra\n",
        "import pandas as pd # data processing, CSV file I/O (e.g. pd.read_csv)\n",
        "\n",
        "import os\n",
        "for dirname, _, filenames in os.walk('/kaggle/input'):\n",
        "    for filename in filenames:\n",
        "        print(os.path.join(dirname, filename))"
      ]
    },
    {
      "cell_type": "code",
      "source": [
        "import random\n",
        "import torch\n",
        "\n",
        "seed = 1\n",
        "random.seed(seed)\n",
        "np.random.seed(seed)\n",
        "torch.manual_seed(seed)\n",
        "if torch.cuda.is_available():\n",
        "    torch.cuda.manual_seed(seed)\n",
        "    torch.cuda.manual_seed_all(seed)\n",
        "torch.backends.cudnn.benchmark = False\n",
        "torch.backends.cudnn.deterministic = True"
      ],
      "metadata": {
        "id": "OgUiIA0Ms_4m"
      },
      "execution_count": 1,
      "outputs": []
    },
    {
      "cell_type": "code",
      "source": [
        "import os\n",
        "from PIL import Image\n",
        "from tqdm import tqdm\n",
        "from torch.utils.data import DataLoader\n",
        "import torchvision.transforms as transforms"
      ],
      "metadata": {
        "id": "wuFhcvIHtLer"
      },
      "execution_count": null,
      "outputs": []
    },
    {
      "cell_type": "code",
      "source": [
        "device = 'cuda' if torch.cuda.is_available() else 'cpu'"
      ],
      "metadata": {
        "id": "0fs2Of82tNUt"
      },
      "execution_count": null,
      "outputs": []
    },
    {
      "cell_type": "code",
      "source": [
        "train_path = \"/kaggle/input/2022-ai-tp-18011886/train\"\n",
        "test_path = \"/kaggle/input/2022-ai-tp-18011886/test\"\n",
        "all_label = os.listdir(train_path)"
      ],
      "metadata": {
        "id": "sn6z3Rs0tOCG"
      },
      "execution_count": null,
      "outputs": []
    },
    {
      "cell_type": "code",
      "source": [
        "class train_dataset():\n",
        "    def __init__(self):\n",
        "        self.data_path = []\n",
        "        self.label_idx = []\n",
        "\n",
        "        for idx, label in enumerate(all_label):\n",
        "            for data_path in tqdm(os.listdir(os.path.join(train_path,label))):\n",
        "                path = os.path.join(label,data_path)\n",
        "                self.data_path.append(path)\n",
        "                self.label_idx.append(idx)\n",
        "\n",
        "    def __getitem__(self,idx):\n",
        "        transform = transforms.Compose([\n",
        "        transforms.ToTensor(),\n",
        "        transforms.Resize((320,320)),\n",
        "        transforms.Normalize((0.485, 0.456, 0.406), (0.229, 0.224, 0.225))])\n",
        "\n",
        "        path = self.data_path[idx]\n",
        "        img = Image.open(os.path.join(train_path,path))\n",
        "        img = img.convert('RGB')\n",
        "        img = transform(img)\n",
        "        return img, self.label_idx[idx]\n",
        "\n",
        "    def __len__(self):\n",
        "        return len(self.data_path)\n",
        "\n",
        "class test_dataset():\n",
        "    def __init__(self):\n",
        "        self.data_path = []\n",
        "\n",
        "        for data_path in tqdm(os.listdir(os.path.join(test_path))):\n",
        "            path = data_path\n",
        "            self.data_path.append(path)\n",
        "\n",
        "        self.data_path.sort()\n",
        "\n",
        "    def __getitem__(self,idx):\n",
        "        transform = transforms.Compose([\n",
        "        transforms.ToTensor(),\n",
        "        transforms.Resize((320,320)),\n",
        "        transforms.Normalize((0.485, 0.456, 0.406), (0.229, 0.224, 0.225))])\n",
        "\n",
        "        path = self.data_path[idx]\n",
        "        img = Image.open(os.path.join(test_path,path))\n",
        "        img = img.convert('RGB')\n",
        "        img = transform(img)\n",
        "        return img, 0\n",
        "\n",
        "    def __len__(self):\n",
        "        return len(self.data_path)"
      ],
      "metadata": {
        "id": "-wXiE4Y5tRid"
      },
      "execution_count": null,
      "outputs": []
    },
    {
      "cell_type": "code",
      "source": [
        "batch_size = 32\n",
        "train_dataset = train_dataset()\n",
        "test_dataset = test_dataset()\n",
        "train_loader = DataLoader(train_dataset, batch_size=batch_size,\n",
        "                         shuffle=True)\n",
        "test_loader = DataLoader(test_dataset, batch_size=batch_size,\n",
        "                         shuffle=False)"
      ],
      "metadata": {
        "id": "tIxc5kBOtU_T"
      },
      "execution_count": null,
      "outputs": []
    },
    {
      "cell_type": "code",
      "source": [
        "import torchvision.models as models\n",
        "\n",
        "model = models.resnet50(pretrained=True)\n",
        "model.fc = torch.nn.Linear(2048, 4, bias=True)\n",
        "torch.nn.init.xavier_normal_(model.fc.weight)\n",
        "model.to(device)"
      ],
      "metadata": {
        "id": "dqD2JC1StXE5"
      },
      "execution_count": null,
      "outputs": []
    },
    {
      "cell_type": "code",
      "source": [
        "loss = torch.nn.CrossEntropyLoss().to(device)\n",
        "optimizer = torch.optim.Adam(model.parameters(), lr = 0.0005)\n",
        "scheduler = torch.optim.lr_scheduler.ExponentialLR(optimizer, gamma=0.9)"
      ],
      "metadata": {
        "id": "wOLRsLGatbTx"
      },
      "execution_count": null,
      "outputs": []
    },
    {
      "cell_type": "code",
      "source": [
        "model.train()\n",
        "\n",
        "epochs = 5\n",
        "\n",
        "for epoch in range(epochs):\n",
        "    avg_cost = 0\n",
        "\n",
        "    for x,y in tqdm(train_loader):\n",
        "        #import pdb;pdb.set_trace()\n",
        "        x = x.to(device)\n",
        "        y = y.to(device)\n",
        "\n",
        "        optimizer.zero_grad()\n",
        "        out = model(x).to(device)\n",
        "        cost = loss(out, y).to(device)\n",
        "        cost.backward()\n",
        "        optimizer.step()\n",
        "        scheduler.step()\n",
        "\n",
        "        avg_cost +=cost.item()/batch_size\n",
        "\n",
        "    print(epoch+1,avg_cost)"
      ],
      "metadata": {
        "id": "e521RbYJtioF"
      },
      "execution_count": null,
      "outputs": []
    },
    {
      "cell_type": "code",
      "source": [
        "with torch.no_grad():\n",
        "    model.eval()\n",
        "    corr_pred = list()\n",
        "    test = list()\n",
        "    for x,_ in test_loader:\n",
        "        x = x.to(device)\n",
        "        out = model(x).to(device)\n",
        "        pred = torch.argmax(out,dim=1).cpu().detach().numpy()\n",
        "        corr_pred.extend(pred)\n",
        "\n",
        "    for i in range(len(corr_pred)):\n",
        "        test.append(all_label[corr_pred[i]])"
      ],
      "metadata": {
        "id": "kd_KrQ5rtkao"
      },
      "execution_count": null,
      "outputs": []
    },
    {
      "cell_type": "code",
      "source": [
        "submit = pd.read_csv('/kaggle/input/2022-ai-tp-18011886/sample_submit.csv',encoding='cp949')\n",
        "submit['label'] = test\n",
        "submit.to_csv('submit.csv',index=False,encoding='cp949')"
      ],
      "metadata": {
        "id": "Nts2zYfptl8D"
      },
      "execution_count": null,
      "outputs": []
    }
  ]
}