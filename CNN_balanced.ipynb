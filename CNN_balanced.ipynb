{
  "nbformat": 4,
  "nbformat_minor": 0,
  "metadata": {
    "colab": {
      "provenance": [],
      "authorship_tag": "ABX9TyOIgGkiWJv6rJAq8HVxrUB2",
      "include_colab_link": true
    },
    "kernelspec": {
      "name": "python3",
      "display_name": "Python 3"
    },
    "language_info": {
      "name": "python"
    }
  },
  "cells": [
    {
      "cell_type": "markdown",
      "metadata": {
        "id": "view-in-github",
        "colab_type": "text"
      },
      "source": [
        "<a href=\"https://colab.research.google.com/github/yunyoungwoo/2024S-Ajou-ML-FP/blob/main/CNN_balanced.ipynb\" target=\"_parent\"><img src=\"https://colab.research.google.com/assets/colab-badge.svg\" alt=\"Open In Colab\"/></a>"
      ]
    },
    {
      "cell_type": "code",
      "execution_count": 1,
      "metadata": {
        "id": "2dwNwO1upk83"
      },
      "outputs": [],
      "source": [
        "import torch\n",
        "from torch.utils.data import DataLoader\n",
        "import torch.optim as optim\n",
        "import torch.nn as nn\n",
        "from torchvision import transforms\n",
        "import torchvision.transforms.functional as v2\n",
        "from tqdm import tqdm\n",
        "import numpy as np\n",
        "import os\n",
        "import torch.nn.functional as F\n",
        "import torch.nn as nn\n",
        "from PIL import Image\n",
        "import pickle\n",
        "from sklearn.metrics import f1_score"
      ]
    },
    {
      "cell_type": "code",
      "source": [
        "from google.colab import drive\n",
        "drive.mount('/content/drive')"
      ],
      "metadata": {
        "id": "nIMLDMkh_B0_",
        "outputId": "1f971e50-cee5-47f0-d327-07c455028a52",
        "colab": {
          "base_uri": "https://localhost:8080/"
        }
      },
      "execution_count": 2,
      "outputs": [
        {
          "output_type": "stream",
          "name": "stdout",
          "text": [
            "Mounted at /content/drive\n"
          ]
        }
      ]
    },
    {
      "cell_type": "code",
      "source": [
        "# 데이터프레임을 사용하여 커스텀 데이터셋 생성\n",
        "class BaseDataset(torch.utils.data.Dataset):\n",
        "    def __init__(self, dataframe, transform):\n",
        "        self.df = dataframe\n",
        "        self.transform = transform\n",
        "\n",
        "    def __len__(self):\n",
        "        return len(self.df)\n",
        "\n",
        "    def __getitem__(self, index):\n",
        "        img_path = self.df.iloc[index]['image_path']  # 이미지 파일 경로 컬럼 이름이 'image_path'라고 가정\n",
        "        img = Image.open(img_path).convert(\"RGB\")\n",
        "        transformed_img = self.transform(img)\n",
        "\n",
        "        # 원-핫 인코딩된 클래스 레이블을 가져옴\n",
        "        class_labels = self.df.iloc[index][['class_0', 'class_1', 'class_2', 'class_3']].values.astype(int)\n",
        "        class_id = torch.argmax(torch.tensor(class_labels)).item()  # 정수형 레이블로 변환\n",
        "\n",
        "        return transformed_img, class_id"
      ],
      "metadata": {
        "id": "sG8ucEO4qJGQ"
      },
      "execution_count": 5,
      "outputs": []
    },
    {
      "cell_type": "code",
      "source": [
        "train_transforms = transforms.Compose([\n",
        "    transforms.RandomResizedCrop(size=224, scale=(0.8, 1.0)),  # 랜덤 리사이즈 및 자르기\n",
        "    #transforms.ColorJitter(brightness=0.4, contrast=0.4, saturation=0.4, hue=0.2),  # 컬러 지터\n",
        "    transforms.RandomRotation(degrees=90),  # 랜덤 회전\n",
        "    #transforms.RandomHorizontalFlip(p=0.5),  # 랜덤 수평 뒤집기\n",
        "    transforms.RandomVerticalFlip(p=0.5),  # 랜덤 수직 뒤집\n",
        "    transforms.ToTensor(),  # torch 텐서로 변환\n",
        "    transforms.Normalize(mean=[0.485, 0.456, 0.406], std=[0.229, 0.224, 0.225])  # 정규화\n",
        "]) # 하이퍼파라미터"
      ],
      "metadata": {
        "id": "V9wFHDclqMEK"
      },
      "execution_count": 6,
      "outputs": []
    },
    {
      "cell_type": "code",
      "source": [
        "# 저장된 데이터프레임 불러오기\n",
        "with open('/content/drive/MyDrive/Colab Notebooks/FP/training_df.pkl', 'rb') as f:\n",
        "    training_df = pickle.load(f)\n",
        "\n",
        "with open('/content/drive/MyDrive/Colab Notebooks/FP/validation_df.pkl', 'rb') as f:\n",
        "    validation_df = pickle.load(f)\n",
        "\n",
        "with open('/content/drive/MyDrive/Colab Notebooks/FP/test_df.pkl', 'rb') as f:\n",
        "    test_df = pickle.load(f)\n",
        "\n",
        "training_df.head()"
      ],
      "metadata": {
        "id": "r_iz3HcQ_nN5",
        "outputId": "ba3d6fbf-a6bd-4f3f-90f8-e7f74077b6bd",
        "colab": {
          "base_uri": "https://localhost:8080/",
          "height": 206
        }
      },
      "execution_count": 7,
      "outputs": [
        {
          "output_type": "execute_result",
          "data": {
            "text/plain": [
              "                                          image_path  class_0  class_1  \\\n",
              "0  /content/drive/MyDrive/Colab Notebooks/FP/Trai...    False    False   \n",
              "1  /content/drive/MyDrive/Colab Notebooks/FP/Trai...    False    False   \n",
              "2  /content/drive/MyDrive/Colab Notebooks/FP/Trai...    False    False   \n",
              "3  /content/drive/MyDrive/Colab Notebooks/FP/Trai...    False    False   \n",
              "4  /content/drive/MyDrive/Colab Notebooks/FP/Trai...    False    False   \n",
              "\n",
              "   class_2  class_3  \n",
              "0    False     True  \n",
              "1    False     True  \n",
              "2    False     True  \n",
              "3    False     True  \n",
              "4    False     True  "
            ],
            "text/html": [
              "\n",
              "  <div id=\"df-9612be70-b2df-458f-bea0-feb95bc36356\" class=\"colab-df-container\">\n",
              "    <div>\n",
              "<style scoped>\n",
              "    .dataframe tbody tr th:only-of-type {\n",
              "        vertical-align: middle;\n",
              "    }\n",
              "\n",
              "    .dataframe tbody tr th {\n",
              "        vertical-align: top;\n",
              "    }\n",
              "\n",
              "    .dataframe thead th {\n",
              "        text-align: right;\n",
              "    }\n",
              "</style>\n",
              "<table border=\"1\" class=\"dataframe\">\n",
              "  <thead>\n",
              "    <tr style=\"text-align: right;\">\n",
              "      <th></th>\n",
              "      <th>image_path</th>\n",
              "      <th>class_0</th>\n",
              "      <th>class_1</th>\n",
              "      <th>class_2</th>\n",
              "      <th>class_3</th>\n",
              "    </tr>\n",
              "  </thead>\n",
              "  <tbody>\n",
              "    <tr>\n",
              "      <th>0</th>\n",
              "      <td>/content/drive/MyDrive/Colab Notebooks/FP/Trai...</td>\n",
              "      <td>False</td>\n",
              "      <td>False</td>\n",
              "      <td>False</td>\n",
              "      <td>True</td>\n",
              "    </tr>\n",
              "    <tr>\n",
              "      <th>1</th>\n",
              "      <td>/content/drive/MyDrive/Colab Notebooks/FP/Trai...</td>\n",
              "      <td>False</td>\n",
              "      <td>False</td>\n",
              "      <td>False</td>\n",
              "      <td>True</td>\n",
              "    </tr>\n",
              "    <tr>\n",
              "      <th>2</th>\n",
              "      <td>/content/drive/MyDrive/Colab Notebooks/FP/Trai...</td>\n",
              "      <td>False</td>\n",
              "      <td>False</td>\n",
              "      <td>False</td>\n",
              "      <td>True</td>\n",
              "    </tr>\n",
              "    <tr>\n",
              "      <th>3</th>\n",
              "      <td>/content/drive/MyDrive/Colab Notebooks/FP/Trai...</td>\n",
              "      <td>False</td>\n",
              "      <td>False</td>\n",
              "      <td>False</td>\n",
              "      <td>True</td>\n",
              "    </tr>\n",
              "    <tr>\n",
              "      <th>4</th>\n",
              "      <td>/content/drive/MyDrive/Colab Notebooks/FP/Trai...</td>\n",
              "      <td>False</td>\n",
              "      <td>False</td>\n",
              "      <td>False</td>\n",
              "      <td>True</td>\n",
              "    </tr>\n",
              "  </tbody>\n",
              "</table>\n",
              "</div>\n",
              "    <div class=\"colab-df-buttons\">\n",
              "\n",
              "  <div class=\"colab-df-container\">\n",
              "    <button class=\"colab-df-convert\" onclick=\"convertToInteractive('df-9612be70-b2df-458f-bea0-feb95bc36356')\"\n",
              "            title=\"Convert this dataframe to an interactive table.\"\n",
              "            style=\"display:none;\">\n",
              "\n",
              "  <svg xmlns=\"http://www.w3.org/2000/svg\" height=\"24px\" viewBox=\"0 -960 960 960\">\n",
              "    <path d=\"M120-120v-720h720v720H120Zm60-500h600v-160H180v160Zm220 220h160v-160H400v160Zm0 220h160v-160H400v160ZM180-400h160v-160H180v160Zm440 0h160v-160H620v160ZM180-180h160v-160H180v160Zm440 0h160v-160H620v160Z\"/>\n",
              "  </svg>\n",
              "    </button>\n",
              "\n",
              "  <style>\n",
              "    .colab-df-container {\n",
              "      display:flex;\n",
              "      gap: 12px;\n",
              "    }\n",
              "\n",
              "    .colab-df-convert {\n",
              "      background-color: #E8F0FE;\n",
              "      border: none;\n",
              "      border-radius: 50%;\n",
              "      cursor: pointer;\n",
              "      display: none;\n",
              "      fill: #1967D2;\n",
              "      height: 32px;\n",
              "      padding: 0 0 0 0;\n",
              "      width: 32px;\n",
              "    }\n",
              "\n",
              "    .colab-df-convert:hover {\n",
              "      background-color: #E2EBFA;\n",
              "      box-shadow: 0px 1px 2px rgba(60, 64, 67, 0.3), 0px 1px 3px 1px rgba(60, 64, 67, 0.15);\n",
              "      fill: #174EA6;\n",
              "    }\n",
              "\n",
              "    .colab-df-buttons div {\n",
              "      margin-bottom: 4px;\n",
              "    }\n",
              "\n",
              "    [theme=dark] .colab-df-convert {\n",
              "      background-color: #3B4455;\n",
              "      fill: #D2E3FC;\n",
              "    }\n",
              "\n",
              "    [theme=dark] .colab-df-convert:hover {\n",
              "      background-color: #434B5C;\n",
              "      box-shadow: 0px 1px 3px 1px rgba(0, 0, 0, 0.15);\n",
              "      filter: drop-shadow(0px 1px 2px rgba(0, 0, 0, 0.3));\n",
              "      fill: #FFFFFF;\n",
              "    }\n",
              "  </style>\n",
              "\n",
              "    <script>\n",
              "      const buttonEl =\n",
              "        document.querySelector('#df-9612be70-b2df-458f-bea0-feb95bc36356 button.colab-df-convert');\n",
              "      buttonEl.style.display =\n",
              "        google.colab.kernel.accessAllowed ? 'block' : 'none';\n",
              "\n",
              "      async function convertToInteractive(key) {\n",
              "        const element = document.querySelector('#df-9612be70-b2df-458f-bea0-feb95bc36356');\n",
              "        const dataTable =\n",
              "          await google.colab.kernel.invokeFunction('convertToInteractive',\n",
              "                                                    [key], {});\n",
              "        if (!dataTable) return;\n",
              "\n",
              "        const docLinkHtml = 'Like what you see? Visit the ' +\n",
              "          '<a target=\"_blank\" href=https://colab.research.google.com/notebooks/data_table.ipynb>data table notebook</a>'\n",
              "          + ' to learn more about interactive tables.';\n",
              "        element.innerHTML = '';\n",
              "        dataTable['output_type'] = 'display_data';\n",
              "        await google.colab.output.renderOutput(dataTable, element);\n",
              "        const docLink = document.createElement('div');\n",
              "        docLink.innerHTML = docLinkHtml;\n",
              "        element.appendChild(docLink);\n",
              "      }\n",
              "    </script>\n",
              "  </div>\n",
              "\n",
              "\n",
              "<div id=\"df-6fc65917-c65e-45fe-9b17-c7d4531fedaf\">\n",
              "  <button class=\"colab-df-quickchart\" onclick=\"quickchart('df-6fc65917-c65e-45fe-9b17-c7d4531fedaf')\"\n",
              "            title=\"Suggest charts\"\n",
              "            style=\"display:none;\">\n",
              "\n",
              "<svg xmlns=\"http://www.w3.org/2000/svg\" height=\"24px\"viewBox=\"0 0 24 24\"\n",
              "     width=\"24px\">\n",
              "    <g>\n",
              "        <path d=\"M19 3H5c-1.1 0-2 .9-2 2v14c0 1.1.9 2 2 2h14c1.1 0 2-.9 2-2V5c0-1.1-.9-2-2-2zM9 17H7v-7h2v7zm4 0h-2V7h2v10zm4 0h-2v-4h2v4z\"/>\n",
              "    </g>\n",
              "</svg>\n",
              "  </button>\n",
              "\n",
              "<style>\n",
              "  .colab-df-quickchart {\n",
              "      --bg-color: #E8F0FE;\n",
              "      --fill-color: #1967D2;\n",
              "      --hover-bg-color: #E2EBFA;\n",
              "      --hover-fill-color: #174EA6;\n",
              "      --disabled-fill-color: #AAA;\n",
              "      --disabled-bg-color: #DDD;\n",
              "  }\n",
              "\n",
              "  [theme=dark] .colab-df-quickchart {\n",
              "      --bg-color: #3B4455;\n",
              "      --fill-color: #D2E3FC;\n",
              "      --hover-bg-color: #434B5C;\n",
              "      --hover-fill-color: #FFFFFF;\n",
              "      --disabled-bg-color: #3B4455;\n",
              "      --disabled-fill-color: #666;\n",
              "  }\n",
              "\n",
              "  .colab-df-quickchart {\n",
              "    background-color: var(--bg-color);\n",
              "    border: none;\n",
              "    border-radius: 50%;\n",
              "    cursor: pointer;\n",
              "    display: none;\n",
              "    fill: var(--fill-color);\n",
              "    height: 32px;\n",
              "    padding: 0;\n",
              "    width: 32px;\n",
              "  }\n",
              "\n",
              "  .colab-df-quickchart:hover {\n",
              "    background-color: var(--hover-bg-color);\n",
              "    box-shadow: 0 1px 2px rgba(60, 64, 67, 0.3), 0 1px 3px 1px rgba(60, 64, 67, 0.15);\n",
              "    fill: var(--button-hover-fill-color);\n",
              "  }\n",
              "\n",
              "  .colab-df-quickchart-complete:disabled,\n",
              "  .colab-df-quickchart-complete:disabled:hover {\n",
              "    background-color: var(--disabled-bg-color);\n",
              "    fill: var(--disabled-fill-color);\n",
              "    box-shadow: none;\n",
              "  }\n",
              "\n",
              "  .colab-df-spinner {\n",
              "    border: 2px solid var(--fill-color);\n",
              "    border-color: transparent;\n",
              "    border-bottom-color: var(--fill-color);\n",
              "    animation:\n",
              "      spin 1s steps(1) infinite;\n",
              "  }\n",
              "\n",
              "  @keyframes spin {\n",
              "    0% {\n",
              "      border-color: transparent;\n",
              "      border-bottom-color: var(--fill-color);\n",
              "      border-left-color: var(--fill-color);\n",
              "    }\n",
              "    20% {\n",
              "      border-color: transparent;\n",
              "      border-left-color: var(--fill-color);\n",
              "      border-top-color: var(--fill-color);\n",
              "    }\n",
              "    30% {\n",
              "      border-color: transparent;\n",
              "      border-left-color: var(--fill-color);\n",
              "      border-top-color: var(--fill-color);\n",
              "      border-right-color: var(--fill-color);\n",
              "    }\n",
              "    40% {\n",
              "      border-color: transparent;\n",
              "      border-right-color: var(--fill-color);\n",
              "      border-top-color: var(--fill-color);\n",
              "    }\n",
              "    60% {\n",
              "      border-color: transparent;\n",
              "      border-right-color: var(--fill-color);\n",
              "    }\n",
              "    80% {\n",
              "      border-color: transparent;\n",
              "      border-right-color: var(--fill-color);\n",
              "      border-bottom-color: var(--fill-color);\n",
              "    }\n",
              "    90% {\n",
              "      border-color: transparent;\n",
              "      border-bottom-color: var(--fill-color);\n",
              "    }\n",
              "  }\n",
              "</style>\n",
              "\n",
              "  <script>\n",
              "    async function quickchart(key) {\n",
              "      const quickchartButtonEl =\n",
              "        document.querySelector('#' + key + ' button');\n",
              "      quickchartButtonEl.disabled = true;  // To prevent multiple clicks.\n",
              "      quickchartButtonEl.classList.add('colab-df-spinner');\n",
              "      try {\n",
              "        const charts = await google.colab.kernel.invokeFunction(\n",
              "            'suggestCharts', [key], {});\n",
              "      } catch (error) {\n",
              "        console.error('Error during call to suggestCharts:', error);\n",
              "      }\n",
              "      quickchartButtonEl.classList.remove('colab-df-spinner');\n",
              "      quickchartButtonEl.classList.add('colab-df-quickchart-complete');\n",
              "    }\n",
              "    (() => {\n",
              "      let quickchartButtonEl =\n",
              "        document.querySelector('#df-6fc65917-c65e-45fe-9b17-c7d4531fedaf button');\n",
              "      quickchartButtonEl.style.display =\n",
              "        google.colab.kernel.accessAllowed ? 'block' : 'none';\n",
              "    })();\n",
              "  </script>\n",
              "</div>\n",
              "\n",
              "    </div>\n",
              "  </div>\n"
            ],
            "application/vnd.google.colaboratory.intrinsic+json": {
              "type": "dataframe",
              "variable_name": "training_df",
              "summary": "{\n  \"name\": \"training_df\",\n  \"rows\": 2000,\n  \"fields\": [\n    {\n      \"column\": \"image_path\",\n      \"properties\": {\n        \"dtype\": \"string\",\n        \"num_unique_values\": 2000,\n        \"samples\": [\n          \"/content/drive/MyDrive/Colab Notebooks/FP/Training/image/2688_A2LEBJJDE00115E_1604366209545_5_RH.jpg\",\n          \"/content/drive/MyDrive/Colab Notebooks/FP/Training/image/1534_A2LEBJJDE00133G_1602842725351_2_TH.jpg\",\n          \"/content/drive/MyDrive/Colab Notebooks/FP/Training/image/3065_A2LEBJJDE00103Y_1604121861779_2_TH.jpg\"\n        ],\n        \"semantic_type\": \"\",\n        \"description\": \"\"\n      }\n    },\n    {\n      \"column\": \"class_0\",\n      \"properties\": {\n        \"dtype\": \"boolean\",\n        \"num_unique_values\": 2,\n        \"samples\": [\n          true,\n          false\n        ],\n        \"semantic_type\": \"\",\n        \"description\": \"\"\n      }\n    },\n    {\n      \"column\": \"class_1\",\n      \"properties\": {\n        \"dtype\": \"boolean\",\n        \"num_unique_values\": 2,\n        \"samples\": [\n          true,\n          false\n        ],\n        \"semantic_type\": \"\",\n        \"description\": \"\"\n      }\n    },\n    {\n      \"column\": \"class_2\",\n      \"properties\": {\n        \"dtype\": \"boolean\",\n        \"num_unique_values\": 2,\n        \"samples\": [\n          true,\n          false\n        ],\n        \"semantic_type\": \"\",\n        \"description\": \"\"\n      }\n    },\n    {\n      \"column\": \"class_3\",\n      \"properties\": {\n        \"dtype\": \"boolean\",\n        \"num_unique_values\": 2,\n        \"samples\": [\n          false,\n          true\n        ],\n        \"semantic_type\": \"\",\n        \"description\": \"\"\n      }\n    }\n  ]\n}"
            }
          },
          "metadata": {},
          "execution_count": 7
        }
      ]
    },
    {
      "cell_type": "code",
      "source": [
        "# 데이터프레임을 사용하여 데이터셋 생성\n",
        "train_dataset = BaseDataset(training_df, transform=train_transforms)\n",
        "val_dataset = BaseDataset(validation_df, transform=train_transforms)\n",
        "test_dataset = BaseDataset(test_df, transform=train_transforms)"
      ],
      "metadata": {
        "id": "beUGhrPRqRNJ"
      },
      "execution_count": 8,
      "outputs": []
    },
    {
      "cell_type": "code",
      "source": [
        "# 데이터로더 생성\n",
        "train_loader = DataLoader(train_dataset, batch_size=16, shuffle=True)\n",
        "val_loader = DataLoader(val_dataset, batch_size=16)\n",
        "test_loader = DataLoader(test_dataset, batch_size=16)"
      ],
      "metadata": {
        "id": "oDp7IOpIqTyp"
      },
      "execution_count": 9,
      "outputs": []
    },
    {
      "cell_type": "code",
      "source": [
        "class ImprovedCNN(nn.Module):\n",
        "    def __init__(self, num_classes=4):  # 클래스 수를 인자로 받도록 수정\n",
        "        super(ImprovedCNN, self).__init__()\n",
        "        self.conv1 = nn.Conv2d(in_channels=3, out_channels=8, kernel_size=3, padding=1)\n",
        "        self.conv2 = nn.Conv2d(in_channels=8, out_channels=16, kernel_size=3, padding=1)\n",
        "        self.conv3 = nn.Conv2d(in_channels=16, out_channels=32, kernel_size=3, padding=1)\n",
        "        self.conv4 = nn.Conv2d(in_channels=32, out_channels=64, kernel_size=3, padding=1)\n",
        "        self.pool = nn.MaxPool2d(kernel_size=2, stride=2)\n",
        "        self.fc1 = nn.Linear(in_features=64 * 14 * 14, out_features=1024)  # Fully Connected Layer 크기 수정\n",
        "        self.fc2 = nn.Linear(in_features=1024, out_features=128)  # Fully Connected Layer 크기 줄이기\n",
        "        self.fc3 = nn.Linear(in_features=128, out_features=num_classes)  # 클래스 수에 맞게 수정\n",
        "        self.dropout = nn.Dropout(p=0.25)\n",
        "        self.batchnorm1 = nn.BatchNorm2d(8)\n",
        "        self.batchnorm2 = nn.BatchNorm2d(16)\n",
        "        self.batchnorm3 = nn.BatchNorm2d(32)\n",
        "        self.batchnorm4 = nn.BatchNorm2d(64)\n",
        "\n",
        "    def forward(self, x):\n",
        "        x = F.relu(self.batchnorm1(self.conv1(x)))\n",
        "        x = self.pool(x)\n",
        "        x = F.relu(self.batchnorm2(self.conv2(x)))\n",
        "        x = self.pool(x)\n",
        "        x = F.relu(self.batchnorm3(self.conv3(x)))\n",
        "        x = self.pool(x)\n",
        "        x = F.relu(self.batchnorm4(self.conv4(x)))\n",
        "        x = self.pool(x)\n",
        "\n",
        "        x = x.view(x.size(0), -1)  # 배치 크기에 맞게 변환\n",
        "        x = F.relu(self.fc1(x))\n",
        "        x = self.dropout(x)\n",
        "        x = F.relu(self.fc2(x))\n",
        "        x = self.dropout(x)\n",
        "        x = self.fc3(x)\n",
        "\n",
        "        return x"
      ],
      "metadata": {
        "id": "spapVgxZqcFt"
      },
      "execution_count": 10,
      "outputs": []
    },
    {
      "cell_type": "code",
      "source": [
        "# 모델 생성 및 CUDA 설정\n",
        "device = torch.device(\"cuda\" if torch.cuda.is_available() else \"cpu\")\n",
        "model = ImprovedCNN().to(device)"
      ],
      "metadata": {
        "id": "B8ywIzUgqr4P"
      },
      "execution_count": 11,
      "outputs": []
    },
    {
      "cell_type": "code",
      "source": [
        "# 손실 함수 및 최적화 함수, 스케쥴러 정의\n",
        "criterion = nn.CrossEntropyLoss()\n",
        "optimizer = optim.AdamW(model.parameters(), lr=0.00001, weight_decay=0.0001)  # AdamW 옵티마이저\n",
        "lr_scheduler = optim.lr_scheduler.CosineAnnealingLR(optimizer, T_max=30, eta_min=0)  # CosineAnnealingLR 학습률 스케줄러"
      ],
      "metadata": {
        "id": "jziMszFRqs3h"
      },
      "execution_count": 12,
      "outputs": []
    },
    {
      "cell_type": "code",
      "source": [
        "def train(train_loader, model, criterion, optimizer, lr_scheduler):\n",
        "    total_samples = 0\n",
        "    num_batches = len(train_loader)\n",
        "    model.train()\n",
        "    epoch_loss = 0\n",
        "    epoch_accuracy = 0\n",
        "    all_predictions = []\n",
        "    all_targets = []\n",
        "\n",
        "    for i, (data, targets) in enumerate(train_loader):\n",
        "        data = data.to(device)\n",
        "        targets = targets.to(device)  # 이미지 경로 제거\n",
        "        optimizer.zero_grad()\n",
        "        outputs = model(data)\n",
        "        loss = criterion(outputs, targets)\n",
        "        loss.backward()\n",
        "        optimizer.step()\n",
        "        epoch_loss += loss.item()\n",
        "        _, predictions = outputs.max(1)\n",
        "        all_predictions.extend(predictions.cpu().numpy())\n",
        "        all_targets.extend(targets.cpu().numpy())\n",
        "        epoch_accuracy += torch.sum(predictions == targets).item()\n",
        "        total_samples += targets.size(0)\n",
        "\n",
        "    lr_scheduler.step()\n",
        "\n",
        "    accuracy = epoch_accuracy / total_samples\n",
        "    macro_f1 = f1_score(all_targets, all_predictions, average='macro')\n",
        "    return accuracy, epoch_loss / num_batches, macro_f1"
      ],
      "metadata": {
        "id": "DvbuWQusqZ_W"
      },
      "execution_count": 13,
      "outputs": []
    },
    {
      "cell_type": "code",
      "source": [
        "def test(val_loader, model, criterion):\n",
        "    total_samples = 0\n",
        "    num_batches = len(val_loader)\n",
        "    epoch_loss = 0\n",
        "    epoch_accuracy = 0\n",
        "    all_predictions = []\n",
        "    all_targets = []\n",
        "\n",
        "    with torch.no_grad():\n",
        "        model.eval()\n",
        "        for i, (data, targets) in enumerate(val_loader):\n",
        "            data = data.to(device)\n",
        "            targets = targets.to(device)  # 이미지 경로 제거\n",
        "            outputs = model(data)\n",
        "            loss = criterion(outputs, targets)\n",
        "            epoch_loss += loss.item()\n",
        "            _, predictions = outputs.max(1)\n",
        "            all_predictions.extend(predictions.cpu().numpy())\n",
        "            all_targets.extend(targets.cpu().numpy())\n",
        "            epoch_accuracy += torch.sum(predictions == targets).item()\n",
        "            total_samples += targets.size(0)\n",
        "\n",
        "    accuracy = epoch_accuracy / total_samples\n",
        "    macro_f1 = f1_score(all_targets, all_predictions, average='macro')\n",
        "    return accuracy, epoch_loss / num_batches, macro_f1"
      ],
      "metadata": {
        "id": "t0SREEbrqvcS"
      },
      "execution_count": 14,
      "outputs": []
    },
    {
      "cell_type": "code",
      "source": [
        "# 학습 및 검증 실행\n",
        "EPOCHS = 50 #하이퍼파라미터\n",
        "patience = 5\n",
        "counter = 0\n",
        "best_loss = np.inf\n",
        "logs = {'train_loss': [], 'train_acc': [], 'train_f1': [], 'val_loss': [], 'val_acc': [], 'val_f1': []}"
      ],
      "metadata": {
        "id": "VfmA0nSmsEEk"
      },
      "execution_count": 15,
      "outputs": []
    },
    {
      "cell_type": "code",
      "source": [
        "from tqdm import tqdm\n",
        "\n",
        "for epoch in tqdm(range(EPOCHS)):\n",
        "    train_acc, train_loss, train_f1 = train(train_loader, model, criterion, optimizer, lr_scheduler)\n",
        "    val_acc, val_loss, val_f1 = test(val_loader, model, criterion)\n",
        "    print(f'epoch: {epoch} \\\n",
        "    train_loss = {train_loss:.4f}, train_acc: {train_acc:.4f}, train_f1: {train_f1:.4f} \\\n",
        "    val_loss = {val_loss:.4f}, val_acc: {val_acc:.4f}, val_f1: {val_f1:.4f} \\\n",
        "    learning rate: {optimizer.param_groups[0][\"lr\"]}')\n",
        "    logs['train_loss'].append(train_loss)\n",
        "    logs['train_acc'].append(train_acc)\n",
        "    logs['train_f1'].append(train_f1)\n",
        "    logs['val_loss'].append(val_loss)\n",
        "    logs['val_acc'].append(val_acc)\n",
        "    logs['val_f1'].append(val_f1)\n",
        "\n",
        "    if val_loss < best_loss:\n",
        "        counter = 0\n",
        "        best_loss = val_loss\n",
        "        torch.save(model.state_dict(), \"/content/drive/MyDrive/Colab Notebooks/FP/Improved_CNN_best.pth\")\n",
        "    else:\n",
        "        counter += 1\n",
        "    if counter >= patience:\n",
        "        test_acc, val_loss, test_f1 = test(test_loader, model, criterion)\n",
        "        print(\"Early stop!\")\n",
        "        print(f\"Test accuracy: {test_acc}, Test f1: {test_f1}\")\n",
        "        break\n"
      ],
      "metadata": {
        "id": "OulL9zy9qwgC",
        "outputId": "84051c19-a6a1-4986-8bbd-b9416b6b27a8",
        "colab": {
          "base_uri": "https://localhost:8080/"
        }
      },
      "execution_count": 16,
      "outputs": [
        {
          "output_type": "stream",
          "name": "stderr",
          "text": [
            "\r  0%|          | 0/50 [00:00<?, ?it/s]"
          ]
        },
        {
          "output_type": "stream",
          "name": "stdout",
          "text": [
            "epoch: 0     train_loss = 1.2861, train_acc: 0.3715, train_f1: 0.3587     val_loss = 1.1546, val_acc: 0.4633, val_f1: 0.3905     learning rate: 9.972609476841368e-06\n"
          ]
        },
        {
          "output_type": "stream",
          "name": "stderr",
          "text": [
            "  4%|▍         | 2/50 [15:07<5:13:10, 391.47s/it] "
          ]
        },
        {
          "output_type": "stream",
          "name": "stdout",
          "text": [
            "epoch: 1     train_loss = 1.1646, train_acc: 0.4540, train_f1: 0.4363     val_loss = 1.0810, val_acc: 0.5433, val_f1: 0.5207     learning rate: 9.890738003669029e-06\n",
            "epoch: 2     train_loss = 1.1164, train_acc: 0.4955, train_f1: 0.4811     val_loss = 1.0381, val_acc: 0.5300, val_f1: 0.4839     learning rate: 9.755282581475769e-06\n"
          ]
        },
        {
          "output_type": "stream",
          "name": "stderr",
          "text": [
            "  8%|▊         | 4/50 [18:29<2:30:50, 196.76s/it]"
          ]
        },
        {
          "output_type": "stream",
          "name": "stdout",
          "text": [
            "epoch: 3     train_loss = 1.0746, train_acc: 0.5140, train_f1: 0.5009     val_loss = 0.9934, val_acc: 0.5267, val_f1: 0.5109     learning rate: 9.567727288213003e-06\n"
          ]
        },
        {
          "output_type": "stream",
          "name": "stderr",
          "text": [
            "\r 10%|█         | 5/50 [20:10<2:01:34, 162.09s/it]"
          ]
        },
        {
          "output_type": "stream",
          "name": "stdout",
          "text": [
            "epoch: 4     train_loss = 1.0460, train_acc: 0.5175, train_f1: 0.5053     val_loss = 1.0147, val_acc: 0.5233, val_f1: 0.5050     learning rate: 9.330127018922194e-06\n",
            "epoch: 5     train_loss = 1.0262, train_acc: 0.5275, train_f1: 0.5172     val_loss = 0.9656, val_acc: 0.5367, val_f1: 0.5269     learning rate: 9.045084971874737e-06\n"
          ]
        },
        {
          "output_type": "stream",
          "name": "stderr",
          "text": [
            " 14%|█▍        | 7/50 [23:35<1:32:23, 128.91s/it]"
          ]
        },
        {
          "output_type": "stream",
          "name": "stdout",
          "text": [
            "epoch: 6     train_loss = 1.0249, train_acc: 0.5315, train_f1: 0.5246     val_loss = 0.9805, val_acc: 0.5467, val_f1: 0.5334     learning rate: 8.71572412738697e-06\n"
          ]
        },
        {
          "output_type": "stream",
          "name": "stderr",
          "text": [
            "\r 16%|█▌        | 8/50 [25:18<1:24:24, 120.58s/it]"
          ]
        },
        {
          "output_type": "stream",
          "name": "stdout",
          "text": [
            "epoch: 7     train_loss = 1.0273, train_acc: 0.5395, train_f1: 0.5324     val_loss = 0.9821, val_acc: 0.5533, val_f1: 0.5355     learning rate: 8.34565303179429e-06\n"
          ]
        },
        {
          "output_type": "stream",
          "name": "stderr",
          "text": [
            "\r 18%|█▊        | 9/50 [27:03<1:19:07, 115.79s/it]"
          ]
        },
        {
          "output_type": "stream",
          "name": "stdout",
          "text": [
            "epoch: 8     train_loss = 1.0065, train_acc: 0.5430, train_f1: 0.5340     val_loss = 0.9770, val_acc: 0.5500, val_f1: 0.5242     learning rate: 7.938926261462365e-06\n"
          ]
        },
        {
          "output_type": "stream",
          "name": "stderr",
          "text": [
            "\r 20%|██        | 10/50 [28:46<1:14:38, 111.97s/it]"
          ]
        },
        {
          "output_type": "stream",
          "name": "stdout",
          "text": [
            "epoch: 9     train_loss = 0.9969, train_acc: 0.5480, train_f1: 0.5398     val_loss = 0.9801, val_acc: 0.5467, val_f1: 0.5177     learning rate: 7.499999999999999e-06\n"
          ]
        },
        {
          "output_type": "stream",
          "name": "stderr",
          "text": [
            "\r 22%|██▏       | 11/50 [30:30<1:11:10, 109.50s/it]"
          ]
        },
        {
          "output_type": "stream",
          "name": "stdout",
          "text": [
            "epoch: 10     train_loss = 0.9886, train_acc: 0.5405, train_f1: 0.5341     val_loss = 0.9535, val_acc: 0.5600, val_f1: 0.5572     learning rate: 7.033683215379001e-06\n",
            "epoch: 11     train_loss = 0.9784, train_acc: 0.5680, train_f1: 0.5619     val_loss = 0.9270, val_acc: 0.5667, val_f1: 0.5506     learning rate: 6.545084971874737e-06\n"
          ]
        },
        {
          "output_type": "stream",
          "name": "stderr",
          "text": [
            " 26%|██▌       | 13/50 [34:01<1:06:12, 107.38s/it]"
          ]
        },
        {
          "output_type": "stream",
          "name": "stdout",
          "text": [
            "epoch: 12     train_loss = 0.9764, train_acc: 0.5600, train_f1: 0.5530     val_loss = 0.9737, val_acc: 0.5133, val_f1: 0.4934     learning rate: 6.039558454088796e-06\n"
          ]
        },
        {
          "output_type": "stream",
          "name": "stderr",
          "text": [
            "\r 28%|██▊       | 14/50 [35:50<1:04:45, 107.94s/it]"
          ]
        },
        {
          "output_type": "stream",
          "name": "stdout",
          "text": [
            "epoch: 13     train_loss = 0.9582, train_acc: 0.5755, train_f1: 0.5706     val_loss = 0.9629, val_acc: 0.5567, val_f1: 0.5429     learning rate: 5.522642316338268e-06\n"
          ]
        },
        {
          "output_type": "stream",
          "name": "stderr",
          "text": [
            "\r 30%|███       | 15/50 [37:37<1:02:44, 107.55s/it]"
          ]
        },
        {
          "output_type": "stream",
          "name": "stdout",
          "text": [
            "epoch: 14     train_loss = 0.9706, train_acc: 0.5525, train_f1: 0.5504     val_loss = 0.9419, val_acc: 0.5900, val_f1: 0.5707     learning rate: 5.000000000000001e-06\n"
          ]
        },
        {
          "output_type": "stream",
          "name": "stderr",
          "text": [
            "\r 32%|███▏      | 16/50 [39:23<1:00:46, 107.24s/it]"
          ]
        },
        {
          "output_type": "stream",
          "name": "stdout",
          "text": [
            "epoch: 15     train_loss = 0.9632, train_acc: 0.5740, train_f1: 0.5675     val_loss = 0.9488, val_acc: 0.5500, val_f1: 0.5321     learning rate: 4.477357683661733e-06\n",
            "epoch: 16     train_loss = 0.9595, train_acc: 0.5615, train_f1: 0.5557     val_loss = 0.9764, val_acc: 0.5467, val_f1: 0.5272     learning rate: 3.960441545911202e-06\n"
          ]
        },
        {
          "output_type": "stream",
          "name": "stderr",
          "text": [
            "\r 32%|███▏      | 16/50 [42:42<1:30:45, 160.16s/it]"
          ]
        },
        {
          "output_type": "stream",
          "name": "stdout",
          "text": [
            "Early stop!\n",
            "Test accuracy: 0.57, Test f1: 0.5505646686640127\n"
          ]
        },
        {
          "output_type": "stream",
          "name": "stderr",
          "text": [
            "\n"
          ]
        }
      ]
    }
  ]
}