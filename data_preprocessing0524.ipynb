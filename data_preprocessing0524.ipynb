{
  "nbformat": 4,
  "nbformat_minor": 0,
  "metadata": {
    "colab": {
      "provenance": [],
      "gpuType": "T4",
      "machine_shape": "hm",
      "authorship_tag": "ABX9TyOpY3+T2I+W8lktIC83/6JJ",
      "include_colab_link": true
    },
    "kernelspec": {
      "name": "python3",
      "display_name": "Python 3"
    },
    "language_info": {
      "name": "python"
    },
    "accelerator": "GPU"
  },
  "cells": [
    {
      "cell_type": "markdown",
      "metadata": {
        "id": "view-in-github",
        "colab_type": "text"
      },
      "source": [
        "<a href=\"https://colab.research.google.com/github/yunyoungwoo/2024S-Ajou-ML-FP/blob/main/data_preprocessing0524.ipynb\" target=\"_parent\"><img src=\"https://colab.research.google.com/assets/colab-badge.svg\" alt=\"Open In Colab\"/></a>"
      ]
    },
    {
      "cell_type": "code",
      "source": [
        "import os\n",
        "import shutil\n",
        "import random\n",
        "import json\n",
        "from PIL import Image\n",
        "import pandas as pd\n",
        "import torch\n",
        "import torchvision.transforms as transforms\n",
        "from torchvision import models\n",
        "import pickle"
      ],
      "metadata": {
        "id": "YqJYwdSP2Mkg"
      },
      "execution_count": 1,
      "outputs": []
    },
    {
      "cell_type": "code",
      "source": [
        "# Colab 환경에 드라이브 마운트\n",
        "from google.colab import drive\n",
        "drive.mount('/content/drive')"
      ],
      "metadata": {
        "id": "15q2DaXT2XQx",
        "outputId": "59ce9489-86f1-4aa9-a807-b956add51d58",
        "colab": {
          "base_uri": "https://localhost:8080/"
        }
      },
      "execution_count": 2,
      "outputs": [
        {
          "output_type": "stream",
          "name": "stdout",
          "text": [
            "Mounted at /content/drive\n"
          ]
        }
      ]
    },
    {
      "cell_type": "code",
      "source": [
        "# 이미지와 라벨을 처리하는 부분\n",
        "def process(image_source_dir, image_dest_dir, label_source_dir, label_dest_dir, num_images):\n",
        "    # 중복 없는 랜덤 샘플링\n",
        "    image_files = random.sample(os.listdir(image_source_dir), num_images)\n",
        "\n",
        "    # 이미지 파일 옮기기\n",
        "    for file in image_files:\n",
        "        shutil.move(os.path.join(image_source_dir, file), os.path.join(image_dest_dir, file))\n",
        "\n",
        "    # 해당 이미지에 대응하는 라벨 이동\n",
        "    label_files = [file.replace('.jpg', '.json') for file in image_files]\n",
        "    for label_file in label_files:\n",
        "        shutil.move(os.path.join(label_source_dir, label_file), os.path.join(label_dest_dir, label_file))"
      ],
      "metadata": {
        "id": "86R1iUcq2MiS"
      },
      "execution_count": null,
      "outputs": []
    },
    {
      "cell_type": "code",
      "source": [
        "# GPU 사용을 위해 device 설정\n",
        "device = torch.device(\"cuda\" if torch.cuda.is_available() else \"cpu\")\n",
        "\n",
        "# 이미지 resize하는 함수\n",
        "def resize_images(dir, size=(224, 224)):\n",
        "    # 이미지 전처리를 위한 transforms 정의\n",
        "    preprocess = transforms.Compose([\n",
        "        transforms.Resize(size),\n",
        "        transforms.ToTensor(),\n",
        "    ])\n",
        "    for filename in os.listdir(dir):\n",
        "        # 이미지 불러오기 및 GPU에 전달\n",
        "        image = Image.open(os.path.join(dir, filename)).convert('RGB')\n",
        "        image_tensor = preprocess(image).unsqueeze(0).to(device)\n",
        "\n",
        "        # 이미지 저장\n",
        "        output_image = transforms.ToPILImage()(image_tensor.squeeze(0).cpu())\n",
        "        output_image.save(os.path.join(dir, filename))"
      ],
      "metadata": {
        "id": "cywiOXAB_AZ8"
      },
      "execution_count": null,
      "outputs": []
    },
    {
      "cell_type": "code",
      "source": [
        "# 데이터프레임 생성 및 one-hot encoding 수행\n",
        "def create_dataframe(image_dir, label_dir, pickle_path):\n",
        "    data = []\n",
        "    # 문제가 발생한 파일 리스트\n",
        "    problematic_files = []\n",
        "\n",
        "    for label in os.listdir(label_dir):\n",
        "        try:\n",
        "            with open(os.path.join(label_dir, label), 'r') as f:\n",
        "                label_data = json.load(f)\n",
        "                # JSON 파일에서 value_6 열 추출\n",
        "                value_6 = label_data['value_6']\n",
        "        except Exception as e:\n",
        "            print(f\"Error reading JSON file: {os.path.join(label_dir, label)}\")\n",
        "            problematic_files.append(label)\n",
        "            continue\n",
        "\n",
        "        # 이미지 경로와 value_6 열을 데이터 리스트에 추가\n",
        "        image_path = os.path.join(image_dir, label.replace('.json', '.jpg'))\n",
        "        data.append([image_path, value_6])\n",
        "\n",
        "    # DataFrame 생성\n",
        "    df = pd.DataFrame(data, columns=['image_path', 'value_6'])\n",
        "\n",
        "    # One-hot encoding 수행\n",
        "    one_hot_encoded = pd.get_dummies(df['value_6'], prefix='class')\n",
        "    df = df.drop('value_6', axis=1)\n",
        "    df = pd.concat([df, one_hot_encoded], axis=1)\n",
        "\n",
        "    # DataFrame 저장\n",
        "    with open('/content/drive/MyDrive/Colab Notebooks/FP' + pickle_path, 'wb') as f:\n",
        "        pickle.dump(df, f)\n",
        "\n",
        "    # 문제가 발생한 파일들 삭제\n",
        "    for file in problematic_files:\n",
        "        image_path = os.path.join(image_dir, file.replace('.json', '.jpg'))\n",
        "        json_path = os.path.join(label_dir, file)\n",
        "        if os.path.exists(image_path):\n",
        "            os.remove(image_path)\n",
        "        if os.path.exists(json_path):\n",
        "            os.remove(json_path)"
      ],
      "metadata": {
        "id": "j-YqKGwG2UWB"
      },
      "execution_count": null,
      "outputs": []
    },
    {
      "cell_type": "code",
      "source": [
        "# 데이터 증강을 수행하는 함수\n",
        "def augment_images(original_df, image_dir, num_augmented_images_per_class):\n",
        "    # 데이터 증강 설정\n",
        "    transform = transforms.Compose([\n",
        "        transforms.RandomRotation(20),\n",
        "        transforms.RandomResizedCrop(224, scale=(0.8, 1.0)),\n",
        "        transforms.RandomHorizontalFlip(),\n",
        "        transforms.ColorJitter(),\n",
        "        transforms.ToTensor()\n",
        "    ])\n",
        "\n",
        "    augmented_images = []\n",
        "\n",
        "    # 클래스 별로 증강된 이미지 수를 유지하기 위해 각 클래스별로 랜덤하게 선택\n",
        "    for class_label in ['class_0', 'class_1', 'class_2', 'class_3']:\n",
        "        selected_df = original_df[original_df[class_label] == 1].sample(n=num_augmented_images_per_class, random_state=42)\n",
        "\n",
        "        for index, row in selected_df.iterrows():\n",
        "            img_path = row['image_path']\n",
        "            img = Image.open(img_path).convert('RGB')\n",
        "            img_tensor = transform(img).unsqueeze(0).to(device)\n",
        "\n",
        "            # 증강된 이미지를 저장\n",
        "            augmented_img = transforms.ToPILImage()(img_tensor.squeeze(0).cpu())\n",
        "            save_path = os.path.join(image_dir, f'aug_{index}.jpg')\n",
        "            augmented_img.save(save_path)\n",
        "\n",
        "            # 원본 이미지 정보와 동일한 클래스 정보를 유지\n",
        "            augmented_image_info = {'image_path': save_path}\n",
        "            for col in ['class_0', 'class_1', 'class_2', 'class_3']:\n",
        "                augmented_image_info[col] = row[col]\n",
        "\n",
        "            augmented_images.append(augmented_image_info)\n",
        "\n",
        "    # 증강된 이미지 데이터프레임 생성\n",
        "    augmented_df = pd.DataFrame(augmented_images)\n",
        "\n",
        "    # 증강된 데이터프레임을 원본 데이터프레임에 추가\n",
        "    combined_df = pd.concat([original_df, augmented_df], ignore_index=True)\n",
        "\n",
        "    return combined_df"
      ],
      "metadata": {
        "id": "N08oIScp1aZ9"
      },
      "execution_count": 5,
      "outputs": []
    },
    {
      "cell_type": "code",
      "source": [
        "# Training 폴더 경로 설정\n",
        "training_image_dir0 = '/content/drive/MyDrive/Colab Notebooks/FP/Training/class0_image'\n",
        "training_image_dir1 = '/content/drive/MyDrive/Colab Notebooks/FP/Training/class1_image'\n",
        "training_image_dir2 = '/content/drive/MyDrive/Colab Notebooks/FP/Training/class2_image'\n",
        "training_image_dir3 = '/content/drive/MyDrive/Colab Notebooks/FP/Training/class3_image'\n",
        "training_label_dir = '/content/drive/MyDrive/Colab Notebooks/FP/Training/class_label'\n",
        "\n",
        "training_target_image_dir = '/content/drive/MyDrive/Colab Notebooks/FP/Training/image'\n",
        "training_target_label_dir = '/content/drive/MyDrive/Colab Notebooks/FP/Training/label'"
      ],
      "metadata": {
        "id": "q4M9TwdC2Md4"
      },
      "execution_count": null,
      "outputs": []
    },
    {
      "cell_type": "code",
      "source": [
        "# Validation 폴더 경로 설정\n",
        "validation_image_dir0 = '/content/drive/MyDrive/Colab Notebooks/FP/Validation/class0_image'\n",
        "validation_image_dir1 = '/content/drive/MyDrive/Colab Notebooks/FP/Validation/class1_image'\n",
        "validation_image_dir2 = '/content/drive/MyDrive/Colab Notebooks/FP/Validation/class2_image'\n",
        "validation_image_dir3 = '/content/drive/MyDrive/Colab Notebooks/FP/Validation/class3_image'\n",
        "validation_label_dir = '/content/drive/MyDrive/Colab Notebooks/FP/Validation/class_label'\n",
        "\n",
        "validation_target_image_dir = '/content/drive/MyDrive/Colab Notebooks/FP/Validation/image'\n",
        "validation_target_label_dir = '/content/drive/MyDrive/Colab Notebooks/FP/Validation/label'"
      ],
      "metadata": {
        "id": "QQt7o3lK6Bbt"
      },
      "execution_count": null,
      "outputs": []
    },
    {
      "cell_type": "code",
      "source": [
        "# Test 폴더 경로 설정\n",
        "test_image_dir0 = '/content/drive/MyDrive/Colab Notebooks/FP/Validation/class0_image'\n",
        "test_image_dir1 = '/content/drive/MyDrive/Colab Notebooks/FP/Validation/class1_image'\n",
        "test_image_dir2 = '/content/drive/MyDrive/Colab Notebooks/FP/Validation/class2_image'\n",
        "test_image_dir3 = '/content/drive/MyDrive/Colab Notebooks/FP/Validation/class3_image'\n",
        "test_label_dir = '/content/drive/MyDrive/Colab Notebooks/FP/Validation/class_label'\n",
        "\n",
        "test_target_image_dir = '/content/drive/MyDrive/Colab Notebooks/FP/Test/image'\n",
        "test_target_label_dir = '/content/drive/MyDrive/Colab Notebooks/FP/Test/label'"
      ],
      "metadata": {
        "id": "LXUnE0gd6B3S"
      },
      "execution_count": null,
      "outputs": []
    },
    {
      "cell_type": "code",
      "source": [
        "# training 이미지 및 라벨 처리\n",
        "process(training_image_dir0, training_target_image_dir, training_label_dir, training_target_label_dir, 500)\n",
        "process(training_image_dir1, training_target_image_dir, training_label_dir, training_target_label_dir, 500)\n",
        "process(training_image_dir2, training_target_image_dir, training_label_dir, training_target_label_dir, 500)\n",
        "process(training_image_dir3, training_target_image_dir, training_label_dir, training_target_label_dir, 500)"
      ],
      "metadata": {
        "id": "neqUDKFi2eDr"
      },
      "execution_count": null,
      "outputs": []
    },
    {
      "cell_type": "code",
      "source": [
        "# Validation 이미지 및 라벨 처리\n",
        "process(validation_image_dir0, validation_target_image_dir, validation_label_dir, validation_target_label_dir, 75)\n",
        "process(validation_image_dir1, validation_target_image_dir, validation_label_dir, validation_target_label_dir, 75)\n",
        "process(validation_image_dir2, validation_target_image_dir, validation_label_dir, validation_target_label_dir, 75)\n",
        "process(validation_image_dir3, validation_target_image_dir, validation_label_dir, validation_target_label_dir, 75)"
      ],
      "metadata": {
        "id": "0gj1w78p8I1C"
      },
      "execution_count": null,
      "outputs": []
    },
    {
      "cell_type": "code",
      "source": [
        "# Validation 이미지 및 라벨 처리\n",
        "process(test_image_dir0, test_target_image_dir, test_label_dir, test_target_label_dir, 75)\n",
        "process(test_image_dir1, test_target_image_dir, test_label_dir, test_target_label_dir, 75)\n",
        "process(test_image_dir2, test_target_image_dir, test_label_dir, test_target_label_dir, 75)\n",
        "process(test_image_dir3, test_target_image_dir, test_label_dir, test_target_label_dir, 75)"
      ],
      "metadata": {
        "id": "0u7RAhSo8GgX"
      },
      "execution_count": null,
      "outputs": []
    },
    {
      "cell_type": "code",
      "source": [
        "# 이미지 resize\n",
        "resize_images(training_target_image_dir)\n",
        "resize_images(validation_target_image_dir)\n",
        "resize_images(test_target_image_dir)"
      ],
      "metadata": {
        "id": "VCCW-HgQ2g5P"
      },
      "execution_count": null,
      "outputs": []
    },
    {
      "cell_type": "code",
      "source": [
        "# 데이터프레임 생성 및 저장\n",
        "create_dataframe(training_target_image_dir, training_target_label_dir, 'training_df.pkl')\n",
        "create_dataframe(validation_target_image_dir, validation_target_label_dir, 'validation_df.pkl')\n",
        "create_dataframe(test_target_image_dir, test_target_label_dir, 'test_df.pkl')"
      ],
      "metadata": {
        "id": "04ikCDKs2iJO"
      },
      "execution_count": null,
      "outputs": []
    },
    {
      "cell_type": "code",
      "source": [
        "device = torch.device(\"cuda\" if torch.cuda.is_available() else \"cpu\")\n",
        "\n",
        "# 저장된 데이터프레임 불러오기\n",
        "with open('/content/drive/MyDrive/Colab Notebooks/FP/training_df.pkl', 'rb') as f:\n",
        "    training_df = pickle.load(f)\n",
        "\n",
        "augmented_df = augment_images(training_df, '/content/drive/MyDrive/Colab Notebooks/FP/Training/image', 500)\n",
        "\n",
        "# 증강된 데이터프레임 저장\n",
        "with open('/content/drive/MyDrive/Colab Notebooks/FP/augmented1_training.pkl', 'wb') as f:\n",
        "    pickle.dump(augmented_df, f)\n",
        "\n",
        "print(f'총 {len(augmented_df)}장의 증강된 이미지를 생성했습니다.')"
      ],
      "metadata": {
        "id": "obAKjztuM08x",
        "outputId": "a5ca18a6-018f-4435-993e-a16d570d84c9",
        "colab": {
          "base_uri": "https://localhost:8080/"
        }
      },
      "execution_count": 6,
      "outputs": [
        {
          "output_type": "stream",
          "name": "stdout",
          "text": [
            "총 4000장의 증강된 이미지를 생성했습니다.\n"
          ]
        }
      ]
    },
    {
      "cell_type": "code",
      "source": [
        "# 저장된 데이터프레임 불러오기\n",
        "with open('/content/drive/MyDrive/Colab Notebooks/FP/augmented_training.pkl', 'rb') as f:\n",
        "    training_df = pickle.load(f)"
      ],
      "metadata": {
        "id": "d4b5KwC2AgIP"
      },
      "execution_count": null,
      "outputs": []
    },
    {
      "cell_type": "code",
      "source": [
        "# 클래스 별 샘플 수 확인\n",
        "class_counts = training_df.iloc[:, 1:].sum(axis=0)  # 이미지 경로를 제외하고 원핫 인코딩된 클래스 열들만 선택하여 각 클래스 별 합을 계산\n",
        "print(class_counts)\n",
        "training_df.head()"
      ],
      "metadata": {
        "id": "54BB7xSV_8Eo",
        "outputId": "0ea67980-2e1f-4a7f-ea5f-f882deba5330",
        "colab": {
          "base_uri": "https://localhost:8080/",
          "height": 297
        }
      },
      "execution_count": null,
      "outputs": [
        {
          "output_type": "stream",
          "name": "stdout",
          "text": [
            "class_0    575\n",
            "class_1    575\n",
            "class_2    575\n",
            "class_3    575\n",
            "dtype: int64\n"
          ]
        },
        {
          "output_type": "execute_result",
          "data": {
            "text/plain": [
              "                                          image_path  class_0  class_1  \\\n",
              "0  /content/drive/MyDrive/Colab Notebooks/FP/Trai...    False    False   \n",
              "1  /content/drive/MyDrive/Colab Notebooks/FP/Trai...    False    False   \n",
              "2  /content/drive/MyDrive/Colab Notebooks/FP/Trai...    False    False   \n",
              "3  /content/drive/MyDrive/Colab Notebooks/FP/Trai...    False    False   \n",
              "4  /content/drive/MyDrive/Colab Notebooks/FP/Trai...    False    False   \n",
              "\n",
              "   class_2  class_3  \n",
              "0    False     True  \n",
              "1    False     True  \n",
              "2    False     True  \n",
              "3    False     True  \n",
              "4    False     True  "
            ],
            "text/html": [
              "\n",
              "  <div id=\"df-b69daeb0-c943-4838-af67-17a52654d303\" class=\"colab-df-container\">\n",
              "    <div>\n",
              "<style scoped>\n",
              "    .dataframe tbody tr th:only-of-type {\n",
              "        vertical-align: middle;\n",
              "    }\n",
              "\n",
              "    .dataframe tbody tr th {\n",
              "        vertical-align: top;\n",
              "    }\n",
              "\n",
              "    .dataframe thead th {\n",
              "        text-align: right;\n",
              "    }\n",
              "</style>\n",
              "<table border=\"1\" class=\"dataframe\">\n",
              "  <thead>\n",
              "    <tr style=\"text-align: right;\">\n",
              "      <th></th>\n",
              "      <th>image_path</th>\n",
              "      <th>class_0</th>\n",
              "      <th>class_1</th>\n",
              "      <th>class_2</th>\n",
              "      <th>class_3</th>\n",
              "    </tr>\n",
              "  </thead>\n",
              "  <tbody>\n",
              "    <tr>\n",
              "      <th>0</th>\n",
              "      <td>/content/drive/MyDrive/Colab Notebooks/FP/Trai...</td>\n",
              "      <td>False</td>\n",
              "      <td>False</td>\n",
              "      <td>False</td>\n",
              "      <td>True</td>\n",
              "    </tr>\n",
              "    <tr>\n",
              "      <th>1</th>\n",
              "      <td>/content/drive/MyDrive/Colab Notebooks/FP/Trai...</td>\n",
              "      <td>False</td>\n",
              "      <td>False</td>\n",
              "      <td>False</td>\n",
              "      <td>True</td>\n",
              "    </tr>\n",
              "    <tr>\n",
              "      <th>2</th>\n",
              "      <td>/content/drive/MyDrive/Colab Notebooks/FP/Trai...</td>\n",
              "      <td>False</td>\n",
              "      <td>False</td>\n",
              "      <td>False</td>\n",
              "      <td>True</td>\n",
              "    </tr>\n",
              "    <tr>\n",
              "      <th>3</th>\n",
              "      <td>/content/drive/MyDrive/Colab Notebooks/FP/Trai...</td>\n",
              "      <td>False</td>\n",
              "      <td>False</td>\n",
              "      <td>False</td>\n",
              "      <td>True</td>\n",
              "    </tr>\n",
              "    <tr>\n",
              "      <th>4</th>\n",
              "      <td>/content/drive/MyDrive/Colab Notebooks/FP/Trai...</td>\n",
              "      <td>False</td>\n",
              "      <td>False</td>\n",
              "      <td>False</td>\n",
              "      <td>True</td>\n",
              "    </tr>\n",
              "  </tbody>\n",
              "</table>\n",
              "</div>\n",
              "    <div class=\"colab-df-buttons\">\n",
              "\n",
              "  <div class=\"colab-df-container\">\n",
              "    <button class=\"colab-df-convert\" onclick=\"convertToInteractive('df-b69daeb0-c943-4838-af67-17a52654d303')\"\n",
              "            title=\"Convert this dataframe to an interactive table.\"\n",
              "            style=\"display:none;\">\n",
              "\n",
              "  <svg xmlns=\"http://www.w3.org/2000/svg\" height=\"24px\" viewBox=\"0 -960 960 960\">\n",
              "    <path d=\"M120-120v-720h720v720H120Zm60-500h600v-160H180v160Zm220 220h160v-160H400v160Zm0 220h160v-160H400v160ZM180-400h160v-160H180v160Zm440 0h160v-160H620v160ZM180-180h160v-160H180v160Zm440 0h160v-160H620v160Z\"/>\n",
              "  </svg>\n",
              "    </button>\n",
              "\n",
              "  <style>\n",
              "    .colab-df-container {\n",
              "      display:flex;\n",
              "      gap: 12px;\n",
              "    }\n",
              "\n",
              "    .colab-df-convert {\n",
              "      background-color: #E8F0FE;\n",
              "      border: none;\n",
              "      border-radius: 50%;\n",
              "      cursor: pointer;\n",
              "      display: none;\n",
              "      fill: #1967D2;\n",
              "      height: 32px;\n",
              "      padding: 0 0 0 0;\n",
              "      width: 32px;\n",
              "    }\n",
              "\n",
              "    .colab-df-convert:hover {\n",
              "      background-color: #E2EBFA;\n",
              "      box-shadow: 0px 1px 2px rgba(60, 64, 67, 0.3), 0px 1px 3px 1px rgba(60, 64, 67, 0.15);\n",
              "      fill: #174EA6;\n",
              "    }\n",
              "\n",
              "    .colab-df-buttons div {\n",
              "      margin-bottom: 4px;\n",
              "    }\n",
              "\n",
              "    [theme=dark] .colab-df-convert {\n",
              "      background-color: #3B4455;\n",
              "      fill: #D2E3FC;\n",
              "    }\n",
              "\n",
              "    [theme=dark] .colab-df-convert:hover {\n",
              "      background-color: #434B5C;\n",
              "      box-shadow: 0px 1px 3px 1px rgba(0, 0, 0, 0.15);\n",
              "      filter: drop-shadow(0px 1px 2px rgba(0, 0, 0, 0.3));\n",
              "      fill: #FFFFFF;\n",
              "    }\n",
              "  </style>\n",
              "\n",
              "    <script>\n",
              "      const buttonEl =\n",
              "        document.querySelector('#df-b69daeb0-c943-4838-af67-17a52654d303 button.colab-df-convert');\n",
              "      buttonEl.style.display =\n",
              "        google.colab.kernel.accessAllowed ? 'block' : 'none';\n",
              "\n",
              "      async function convertToInteractive(key) {\n",
              "        const element = document.querySelector('#df-b69daeb0-c943-4838-af67-17a52654d303');\n",
              "        const dataTable =\n",
              "          await google.colab.kernel.invokeFunction('convertToInteractive',\n",
              "                                                    [key], {});\n",
              "        if (!dataTable) return;\n",
              "\n",
              "        const docLinkHtml = 'Like what you see? Visit the ' +\n",
              "          '<a target=\"_blank\" href=https://colab.research.google.com/notebooks/data_table.ipynb>data table notebook</a>'\n",
              "          + ' to learn more about interactive tables.';\n",
              "        element.innerHTML = '';\n",
              "        dataTable['output_type'] = 'display_data';\n",
              "        await google.colab.output.renderOutput(dataTable, element);\n",
              "        const docLink = document.createElement('div');\n",
              "        docLink.innerHTML = docLinkHtml;\n",
              "        element.appendChild(docLink);\n",
              "      }\n",
              "    </script>\n",
              "  </div>\n",
              "\n",
              "\n",
              "<div id=\"df-0c08ab38-4fb3-4121-bc73-5f3180f062a4\">\n",
              "  <button class=\"colab-df-quickchart\" onclick=\"quickchart('df-0c08ab38-4fb3-4121-bc73-5f3180f062a4')\"\n",
              "            title=\"Suggest charts\"\n",
              "            style=\"display:none;\">\n",
              "\n",
              "<svg xmlns=\"http://www.w3.org/2000/svg\" height=\"24px\"viewBox=\"0 0 24 24\"\n",
              "     width=\"24px\">\n",
              "    <g>\n",
              "        <path d=\"M19 3H5c-1.1 0-2 .9-2 2v14c0 1.1.9 2 2 2h14c1.1 0 2-.9 2-2V5c0-1.1-.9-2-2-2zM9 17H7v-7h2v7zm4 0h-2V7h2v10zm4 0h-2v-4h2v4z\"/>\n",
              "    </g>\n",
              "</svg>\n",
              "  </button>\n",
              "\n",
              "<style>\n",
              "  .colab-df-quickchart {\n",
              "      --bg-color: #E8F0FE;\n",
              "      --fill-color: #1967D2;\n",
              "      --hover-bg-color: #E2EBFA;\n",
              "      --hover-fill-color: #174EA6;\n",
              "      --disabled-fill-color: #AAA;\n",
              "      --disabled-bg-color: #DDD;\n",
              "  }\n",
              "\n",
              "  [theme=dark] .colab-df-quickchart {\n",
              "      --bg-color: #3B4455;\n",
              "      --fill-color: #D2E3FC;\n",
              "      --hover-bg-color: #434B5C;\n",
              "      --hover-fill-color: #FFFFFF;\n",
              "      --disabled-bg-color: #3B4455;\n",
              "      --disabled-fill-color: #666;\n",
              "  }\n",
              "\n",
              "  .colab-df-quickchart {\n",
              "    background-color: var(--bg-color);\n",
              "    border: none;\n",
              "    border-radius: 50%;\n",
              "    cursor: pointer;\n",
              "    display: none;\n",
              "    fill: var(--fill-color);\n",
              "    height: 32px;\n",
              "    padding: 0;\n",
              "    width: 32px;\n",
              "  }\n",
              "\n",
              "  .colab-df-quickchart:hover {\n",
              "    background-color: var(--hover-bg-color);\n",
              "    box-shadow: 0 1px 2px rgba(60, 64, 67, 0.3), 0 1px 3px 1px rgba(60, 64, 67, 0.15);\n",
              "    fill: var(--button-hover-fill-color);\n",
              "  }\n",
              "\n",
              "  .colab-df-quickchart-complete:disabled,\n",
              "  .colab-df-quickchart-complete:disabled:hover {\n",
              "    background-color: var(--disabled-bg-color);\n",
              "    fill: var(--disabled-fill-color);\n",
              "    box-shadow: none;\n",
              "  }\n",
              "\n",
              "  .colab-df-spinner {\n",
              "    border: 2px solid var(--fill-color);\n",
              "    border-color: transparent;\n",
              "    border-bottom-color: var(--fill-color);\n",
              "    animation:\n",
              "      spin 1s steps(1) infinite;\n",
              "  }\n",
              "\n",
              "  @keyframes spin {\n",
              "    0% {\n",
              "      border-color: transparent;\n",
              "      border-bottom-color: var(--fill-color);\n",
              "      border-left-color: var(--fill-color);\n",
              "    }\n",
              "    20% {\n",
              "      border-color: transparent;\n",
              "      border-left-color: var(--fill-color);\n",
              "      border-top-color: var(--fill-color);\n",
              "    }\n",
              "    30% {\n",
              "      border-color: transparent;\n",
              "      border-left-color: var(--fill-color);\n",
              "      border-top-color: var(--fill-color);\n",
              "      border-right-color: var(--fill-color);\n",
              "    }\n",
              "    40% {\n",
              "      border-color: transparent;\n",
              "      border-right-color: var(--fill-color);\n",
              "      border-top-color: var(--fill-color);\n",
              "    }\n",
              "    60% {\n",
              "      border-color: transparent;\n",
              "      border-right-color: var(--fill-color);\n",
              "    }\n",
              "    80% {\n",
              "      border-color: transparent;\n",
              "      border-right-color: var(--fill-color);\n",
              "      border-bottom-color: var(--fill-color);\n",
              "    }\n",
              "    90% {\n",
              "      border-color: transparent;\n",
              "      border-bottom-color: var(--fill-color);\n",
              "    }\n",
              "  }\n",
              "</style>\n",
              "\n",
              "  <script>\n",
              "    async function quickchart(key) {\n",
              "      const quickchartButtonEl =\n",
              "        document.querySelector('#' + key + ' button');\n",
              "      quickchartButtonEl.disabled = true;  // To prevent multiple clicks.\n",
              "      quickchartButtonEl.classList.add('colab-df-spinner');\n",
              "      try {\n",
              "        const charts = await google.colab.kernel.invokeFunction(\n",
              "            'suggestCharts', [key], {});\n",
              "      } catch (error) {\n",
              "        console.error('Error during call to suggestCharts:', error);\n",
              "      }\n",
              "      quickchartButtonEl.classList.remove('colab-df-spinner');\n",
              "      quickchartButtonEl.classList.add('colab-df-quickchart-complete');\n",
              "    }\n",
              "    (() => {\n",
              "      let quickchartButtonEl =\n",
              "        document.querySelector('#df-0c08ab38-4fb3-4121-bc73-5f3180f062a4 button');\n",
              "      quickchartButtonEl.style.display =\n",
              "        google.colab.kernel.accessAllowed ? 'block' : 'none';\n",
              "    })();\n",
              "  </script>\n",
              "</div>\n",
              "\n",
              "    </div>\n",
              "  </div>\n"
            ],
            "application/vnd.google.colaboratory.intrinsic+json": {
              "type": "dataframe",
              "variable_name": "training_df",
              "summary": "{\n  \"name\": \"training_df\",\n  \"rows\": 2300,\n  \"fields\": [\n    {\n      \"column\": \"image_path\",\n      \"properties\": {\n        \"dtype\": \"string\",\n        \"num_unique_values\": 2300,\n        \"samples\": [\n          \"/content/drive/MyDrive/Colab Notebooks/FP/Training/image/4919_A2LEBJJDE00064V_1605833053672_3_TH.jpg\",\n          \"/content/drive/MyDrive/Colab Notebooks/FP/Training/image/9817_A2LEBJJDE00193F_1604120926523_5_RH.jpg\",\n          \"/content/drive/MyDrive/Colab Notebooks/FP/Training/image/3977_A2LEBJJDE00029K_1602749461551_2_TH.jpg\"\n        ],\n        \"semantic_type\": \"\",\n        \"description\": \"\"\n      }\n    },\n    {\n      \"column\": \"class_0\",\n      \"properties\": {\n        \"dtype\": \"boolean\",\n        \"num_unique_values\": 2,\n        \"samples\": [\n          true,\n          false\n        ],\n        \"semantic_type\": \"\",\n        \"description\": \"\"\n      }\n    },\n    {\n      \"column\": \"class_1\",\n      \"properties\": {\n        \"dtype\": \"boolean\",\n        \"num_unique_values\": 2,\n        \"samples\": [\n          true,\n          false\n        ],\n        \"semantic_type\": \"\",\n        \"description\": \"\"\n      }\n    },\n    {\n      \"column\": \"class_2\",\n      \"properties\": {\n        \"dtype\": \"boolean\",\n        \"num_unique_values\": 2,\n        \"samples\": [\n          true,\n          false\n        ],\n        \"semantic_type\": \"\",\n        \"description\": \"\"\n      }\n    },\n    {\n      \"column\": \"class_3\",\n      \"properties\": {\n        \"dtype\": \"boolean\",\n        \"num_unique_values\": 2,\n        \"samples\": [\n          false,\n          true\n        ],\n        \"semantic_type\": \"\",\n        \"description\": \"\"\n      }\n    }\n  ]\n}"
            }
          },
          "metadata": {},
          "execution_count": 14
        }
      ]
    }
  ]
}