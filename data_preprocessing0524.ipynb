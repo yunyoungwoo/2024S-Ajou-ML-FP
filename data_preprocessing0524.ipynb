{
  "nbformat": 4,
  "nbformat_minor": 0,
  "metadata": {
    "colab": {
      "provenance": [],
      "gpuType": "T4",
      "machine_shape": "hm",
      "authorship_tag": "ABX9TyON4wqWYSBxdAJ27NNpvoHG",
      "include_colab_link": true
    },
    "kernelspec": {
      "name": "python3",
      "display_name": "Python 3"
    },
    "language_info": {
      "name": "python"
    },
    "accelerator": "GPU"
  },
  "cells": [
    {
      "cell_type": "markdown",
      "metadata": {
        "id": "view-in-github",
        "colab_type": "text"
      },
      "source": [
        "<a href=\"https://colab.research.google.com/github/yunyoungwoo/2024S-Ajou-ML-FP/blob/main/data_preprocessing0524.ipynb\" target=\"_parent\"><img src=\"https://colab.research.google.com/assets/colab-badge.svg\" alt=\"Open In Colab\"/></a>"
      ]
    },
    {
      "cell_type": "code",
      "source": [
        "import os\n",
        "import shutil\n",
        "import random\n",
        "import json\n",
        "from PIL import Image\n",
        "import pandas as pd\n",
        "import torch\n",
        "import torchvision.transforms as transforms\n",
        "from torchvision import models\n",
        "import pickle"
      ],
      "metadata": {
        "id": "YqJYwdSP2Mkg"
      },
      "execution_count": null,
      "outputs": []
    },
    {
      "cell_type": "code",
      "source": [
        "# Colab 환경에 드라이브 마운트\n",
        "from google.colab import drive\n",
        "drive.mount('/content/drive')"
      ],
      "metadata": {
        "id": "15q2DaXT2XQx"
      },
      "execution_count": null,
      "outputs": []
    },
    {
      "cell_type": "code",
      "source": [
        "# 이미지와 라벨을 처리하는 부분\n",
        "def process(image_source_dir, image_dest_dir, label_source_dir, label_dset_dir, num_images):\n",
        "    # 중복 없는 랜덤 샘플링\n",
        "    image_files = random.sample(os.listdir(source_dir), num_images)\n",
        "\n",
        "    # 이미지 파일 옮기기\n",
        "    for file in image_files:\n",
        "        shutil.move(os.path.join(image_source_dir, file), os.path.join(image_dest_dir, file))\n",
        "\n",
        "    # 해당 이미지에 대응하는 라벨 이동\n",
        "    label_files = [file.replace('.jpg', '.json') for file in image_files]\n",
        "    for label_file in label_files:\n",
        "        shutil.move(os.path.join(label_source_dir, label_file), os.path.join(label_dest_dir, label_file))"
      ],
      "metadata": {
        "id": "86R1iUcq2MiS"
      },
      "execution_count": null,
      "outputs": []
    },
    {
      "cell_type": "code",
      "source": [
        "# GPU 사용을 위해 device 설정\n",
        "device = torch.device(\"cuda\" if torch.cuda.is_available() else \"cpu\")\n",
        "\n",
        "# 이미지 resize하는 함수\n",
        "def resize_images(dir, size=(224, 224)):\n",
        "    # 이미지 전처리를 위한 transforms 정의\n",
        "    preprocess = transforms.Compose([\n",
        "        transforms.Resize(size),\n",
        "        transforms.ToTensor(),\n",
        "    ])\n",
        "\n",
        "    for filename in os.listdir(dir):\n",
        "        # 이미지 불러오기 및 GPU에 전달\n",
        "        image = Image.open(os.path.join(filename)).convert('RGB')\n",
        "        image_tensor = preprocess(image).unsqueeze(0).to(device)\n",
        "\n",
        "        # 이미지 저장\n",
        "        output_image = transforms.ToPILImage()(image_tensor.squeeze(0).cpu())\n",
        "        output_image.save(os.path.join(dir, filename))"
      ],
      "metadata": {
        "id": "cywiOXAB_AZ8"
      },
      "execution_count": null,
      "outputs": []
    },
    {
      "cell_type": "code",
      "source": [
        "# 데이터프레임 생성 및 one-hot encoding 수행\n",
        "def create_dataframe(image_dir, label_dir, pickle_path):\n",
        "    data = []\n",
        "    # 문제가 발생한 파일 리스트\n",
        "    problematic_files = []\n",
        "\n",
        "    for label in os.listdir(label_dir):\n",
        "        try:\n",
        "            with open(os.path.join(label_dir, label), 'r') as f:\n",
        "                label_data = json.load(f)\n",
        "                # JSON 파일에서 value_6 열 추출\n",
        "                value_6 = label_data['value_6']\n",
        "        except Exception as e:\n",
        "            print(f\"Error reading JSON file: {os.path.join(label_dir, label)}\")\n",
        "            problematic_files.append(label)\n",
        "            continue\n",
        "\n",
        "        # 이미지 경로와 value_6 열을 데이터 리스트에 추가\n",
        "        image_path = os.path.join(image_dir, label.replace('.json', '.jpg'))\n",
        "        data.append([image_path] + value_6)\n",
        "\n",
        "    # DataFrame 생성\n",
        "    df = pd.DataFrame(data, columns=['Image_Name', 'Label_6'])\n",
        "\n",
        "    # DataFrame 저장\n",
        "    with open('/content/drive/MyDrive/Colab Notebooks/FP' + save_path, 'wb') as f:\n",
        "        pickle.dump(df, f)\n",
        "\n",
        "    # 문제가 발생한 파일들 삭제\n",
        "    for file in problematic_files:\n",
        "        image_path = os.path.join(image_dir, file.replace('.json', '.jpg'))\n",
        "        json_path = os.path.join(label_dir, file)\n",
        "        if os.path.exists(image_path):\n",
        "            os.remove(image_path)\n",
        "        if os.path.exists(json_path):\n",
        "            os.remove(json_path)"
      ],
      "metadata": {
        "id": "j-YqKGwG2UWB"
      },
      "execution_count": null,
      "outputs": []
    },
    {
      "cell_type": "code",
      "source": [
        "# Training 폴더 경로 설정\n",
        "training_image_dir0 = '/content/drvie/MyDrive/Colab Notebooks/FP/Training/class0_image'\n",
        "training_image_dir1 = '/content/drvie/MyDrive/Colab Notebooks/FP/Training/class1_image'\n",
        "training_image_dir2 = '/content/drvie/MyDrive/Colab Notebooks/FP/Training/class2_image'\n",
        "training_image_dir3 = '/content/drvie/MyDrive/Colab Notebooks/FP/Training/class3_image'\n",
        "training_label_dir = '/content/drvie/MyDrive/Colab Notebooks/FP/Training/class_label'\n",
        "\n",
        "trining_target_image_dir = '/content/drive/MyDrive/Colab Notebooks/FP/Training/image'\n",
        "training_target_label_dir '/content/drvie/MyDrive/Colab Notebooks/FP/Training/label'"
      ],
      "metadata": {
        "id": "q4M9TwdC2Md4"
      },
      "execution_count": null,
      "outputs": []
    },
    {
      "cell_type": "code",
      "source": [
        "# Validation 폴더 경로 설정\n",
        "validation_image_dir0 = '/content/drvie/MyDrive/Colab Notebooks/FP/Validation/class0_image'\n",
        "validation_image_dir1 = '/content/drvie/MyDrive/Colab Notebooks/FP/Validation/class1_image'\n",
        "validation_image_dir2 = '/content/drvie/MyDrive/Colab Notebooks/FP/Validation/class2_image'\n",
        "validation_image_dir3 = '/content/drvie/MyDrive/Colab Notebooks/FP/Validation/class3_image'\n",
        "validation_label_dir = '/content/drvie/MyDrive/Colab Notebooks/FP/Validation/class_label'\n",
        "\n",
        "validation_target_image_dir = '/content/drive/MyDrive/Colab Notebooks/FP/Validation/image'\n",
        "validation_target_label_dir '/content/drvie/MyDrive/Colab Notebooks/FP/Validation/label'"
      ],
      "metadata": {
        "id": "QQt7o3lK6Bbt"
      },
      "execution_count": null,
      "outputs": []
    },
    {
      "cell_type": "code",
      "source": [
        "# Test 폴더 경로 설정\n",
        "test_image_dir0 = '/content/drvie/MyDrive/Colab Notebooks/FP/Validation/class0_image'\n",
        "test_image_dir1 = '/content/drvie/MyDrive/Colab Notebooks/FP/Validation/class1_image'\n",
        "test_image_dir2 = '/content/drvie/MyDrive/Colab Notebooks/FP/Validation/class2_image'\n",
        "test_image_dir3 = '/content/drvie/MyDrive/Colab Notebooks/FP/Validation/class3_image'\n",
        "test_label_dir = '/content/drvie/MyDrive/Colab Notebooks/FP/Validation/class_label'\n",
        "\n",
        "test_target_image_dir = '/content/drive/MyDrive/Colab Notebooks/FP/Test/image'\n",
        "test_target_label_dir '/content/drvie/MyDrive/Colab Notebooks/FP/Test/label'"
      ],
      "metadata": {
        "id": "LXUnE0gd6B3S"
      },
      "execution_count": null,
      "outputs": []
    },
    {
      "cell_type": "code",
      "source": [
        "# training 이미지 및 라벨 처리\n",
        "process(training_image_dir0, trining_target_image_dir, training_label_dir, training_target_label_dir, 500)\n",
        "process(training_image_dir1, trining_target_image_dir, training_label_dir, training_target_label_dir, 500)\n",
        "process(training_image_dir2, trining_target_image_dir, training_label_dir, training_target_label_dir, 500)\n",
        "process(training_image_dir3, trining_target_image_dir, training_label_dir, training_target_label_dir, 500)"
      ],
      "metadata": {
        "id": "neqUDKFi2eDr"
      },
      "execution_count": null,
      "outputs": []
    },
    {
      "cell_type": "code",
      "source": [
        "# Validation 이미지 및 라벨 처리\n",
        "process(validation_image_dir0, validation_target_image_dir, validation_label_dir, validation_target_label_dir, 75)\n",
        "process(validation_image_dir1, validation_target_image_dir, validation_label_dir, validation_target_label_dir, 75)\n",
        "process(validation_image_dir2, validation_target_image_dir, validation_label_dir, validation_target_label_dir, 75)\n",
        "process(validation_image_dir3, validation_target_image_dir, validation_label_dir, validation_target_label_dir, 75)"
      ],
      "metadata": {
        "id": "0gj1w78p8I1C"
      },
      "execution_count": null,
      "outputs": []
    },
    {
      "cell_type": "code",
      "source": [
        "# Validation 이미지 및 라벨 처리\n",
        "process(test_image_dir0, test_target_image_dir, test_label_dir, test_target_label_dir, 75)\n",
        "process(test_image_dir1, test_target_image_dir, test_label_dir, test_target_label_dir, 75)\n",
        "process(test_image_dir2, test_target_image_dir, test_label_dir, test_target_label_dir, 75)\n",
        "process(test_image_dir3, test_target_image_dir, test_label_dir, test_target_label_dir, 75)"
      ],
      "metadata": {
        "id": "0u7RAhSo8GgX"
      },
      "execution_count": null,
      "outputs": []
    },
    {
      "cell_type": "code",
      "source": [
        "# 이미지 resize\n",
        "resize_images(training_target_image_dir)\n",
        "resize_images(validation_target_image_dir)\n",
        "resize_images(test_target_image_dir)"
      ],
      "metadata": {
        "id": "VCCW-HgQ2g5P"
      },
      "execution_count": null,
      "outputs": []
    },
    {
      "cell_type": "code",
      "source": [
        "# 데이터프레임 생성 및 저장\n",
        "create_dataframe(training_target_image_dir, training_target_label_dir, 'training_df.pkl')\n",
        "create_dataframe(validation_target_image_dir, validation_target_label_dir, 'validation_df.pkl')\n",
        "create_dataframe(test_target_image_dir, test_target_label_dir, 'test_df.pkl')"
      ],
      "metadata": {
        "id": "04ikCDKs2iJO"
      },
      "execution_count": null,
      "outputs": []
    }
  ]
}